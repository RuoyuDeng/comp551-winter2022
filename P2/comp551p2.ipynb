{
  "cells": [
    {
      "cell_type": "markdown",
      "metadata": {
        "id": "ADwSmQcoZBY6"
      },
      "source": [
        "# Task 1: Acquire, preprocess, and analyze the data"
      ]
    },
    {
      "cell_type": "markdown",
      "metadata": {
        "id": "EsMnk7wZnzP3"
      },
      "source": [
        "## 20 news group dataset\n"
      ]
    },
    {
      "cell_type": "code",
      "execution_count": 1,
      "metadata": {
        "id": "XWP4YalNNZ5Q"
      },
      "outputs": [],
      "source": [
        "from sklearn.datasets import fetch_20newsgroups"
      ]
    },
    {
      "cell_type": "code",
      "execution_count": 2,
      "metadata": {
        "id": "o6IbNZkzXihb"
      },
      "outputs": [],
      "source": [
        "twenty_train = fetch_20newsgroups(subset='train', remove=(['headers', 'footers', 'quotes']), shuffle=True, random_state=42)\n",
        "twenty_test = fetch_20newsgroups(subset='test', remove=(['headers', 'footers', 'quotes']), shuffle=True, random_state=42)"
      ]
    },
    {
      "cell_type": "code",
      "execution_count": 3,
      "metadata": {
        "id": "6uCUOZCSY9L9"
      },
      "outputs": [],
      "source": [
        "from sklearn.feature_extraction.text import CountVectorizer\n",
        "\n",
        "# vectorize the training data \n",
        "count_vect = CountVectorizer()\n",
        "Xtrain_ngroups = count_vect.fit_transform(twenty_train.data)\n",
        "\n",
        "Xtest_ngroups = count_vect.transform(twenty_test.data)\n",
        "Ytest_ngroups = twenty_test.target\n"
      ]
    },
    {
      "cell_type": "code",
      "execution_count": 4,
      "metadata": {
        "id": "DIZ0zlU5J9DG"
      },
      "outputs": [],
      "source": [
        "Xtrain_ngroups = Xtrain_ngroups"
      ]
    },
    {
      "cell_type": "code",
      "execution_count": 5,
      "metadata": {
        "colab": {
          "base_uri": "https://localhost:8080/"
        },
        "id": "gs2spu5ijtnv",
        "outputId": "6b9eb93c-0ded-4747-a24b-479e54a19a32"
      },
      "outputs": [
        {
          "data": {
            "text/plain": [
              "(11314, 101631)"
            ]
          },
          "execution_count": 5,
          "metadata": {},
          "output_type": "execute_result"
        }
      ],
      "source": [
        "Xtrain_ngroups.shape"
      ]
    },
    {
      "cell_type": "code",
      "execution_count": 6,
      "metadata": {
        "id": "buQhL_i6j5bE"
      },
      "outputs": [],
      "source": [
        "Ytrain_ngroups = twenty_train.target"
      ]
    },
    {
      "cell_type": "code",
      "execution_count": 7,
      "metadata": {
        "colab": {
          "base_uri": "https://localhost:8080/"
        },
        "id": "WpHitnmznFfh",
        "outputId": "d37c51f3-1f64-4640-adeb-e59752b9d6ef"
      },
      "outputs": [
        {
          "data": {
            "text/plain": [
              "array([7, 4, 4, ..., 3, 1, 8])"
            ]
          },
          "execution_count": 7,
          "metadata": {},
          "output_type": "execute_result"
        }
      ],
      "source": [
        "Ytrain_ngroups"
      ]
    },
    {
      "cell_type": "code",
      "execution_count": 8,
      "metadata": {
        "colab": {
          "base_uri": "https://localhost:8080/"
        },
        "id": "k8Ns_uo4l0Np",
        "outputId": "5fcb0aa1-32ed-49f1-89c5-98bb264b816d"
      },
      "outputs": [
        {
          "data": {
            "text/plain": [
              "(11314,)"
            ]
          },
          "execution_count": 8,
          "metadata": {},
          "output_type": "execute_result"
        }
      ],
      "source": [
        "Ytrain_ngroups.shape"
      ]
    },
    {
      "cell_type": "markdown",
      "metadata": {
        "id": "_OlkBwWzkVuB"
      },
      "source": [
        "### Statitics"
      ]
    },
    {
      "cell_type": "code",
      "execution_count": 9,
      "metadata": {
        "id": "1aEtt30ldPDN"
      },
      "outputs": [],
      "source": [
        "# number of sentences in each class/label \n",
        "\n",
        "num_labels = {}\n",
        "for target in twenty_train.target_names:\n",
        "  num_labels[target] = 0\n",
        "\n",
        "tnames = twenty_train.target_names\n",
        "ty = twenty_train.target\n",
        "tx = twenty_train.data\n",
        "for i in range(len(ty)):\n",
        "  num_labels[tnames[ty[i]]] += 1"
      ]
    },
    {
      "cell_type": "code",
      "execution_count": 10,
      "metadata": {
        "colab": {
          "base_uri": "https://localhost:8080/",
          "height": 477
        },
        "id": "9Ios8QR-my9e",
        "outputId": "34403542-935f-4d4b-e269-4520b39aee96"
      },
      "outputs": [
        {
          "data": {
            "text/plain": [
              "Text(0.5, 1.0, 'Number of instance per class (20 news group dataset)')"
            ]
          },
          "execution_count": 10,
          "metadata": {},
          "output_type": "execute_result"
        },
        {
          "data": {
            "image/png": "[encoded data removed]",
            "text/plain": [
              "<Figure size 720x360 with 1 Axes>"
            ]
          },
          "metadata": {
            "needs_background": "light"
          },
          "output_type": "display_data"
        }
      ],
      "source": [
        "import matplotlib.pyplot as plt\n",
        "import numpy as np\n",
        "\n",
        "x = np.arange(len(tnames))\n",
        "plt.figure(figsize=(10,5))\n",
        "plt.bar(x, height=num_labels.values(), linewidth=2.0)\n",
        "plt.xticks(x, num_labels.keys(), rotation=90)\n",
        "plt.title(\"Number of instance per class (20 news group dataset)\")"
      ]
    },
    {
      "cell_type": "markdown",
      "metadata": {
        "id": "s8QWPYKwoOpr"
      },
      "source": [
        "## Sentiment140 dataset"
      ]
    },
    {
      "cell_type": "code",
      "execution_count": 11,
      "metadata": {
        "id": "hV2HuuQLoVyd"
      },
      "outputs": [],
      "source": [
        "import pandas as pd"
      ]
    },
    {
      "cell_type": "code",
      "execution_count": 12,
      "metadata": {
        "id": "FZ2li2vfq6VR"
      },
      "outputs": [],
      "source": [
        "sentiment_train = pd.read_csv('training.1600000.processed.noemoticon.csv', encoding='latin-1')\n",
        "sentiment_train.columns = ['Class', 'Id', 'Date','Query', 'User', 'Tweet']"
      ]
    },
    {
      "cell_type": "code",
      "execution_count": 13,
      "metadata": {
        "id": "kBS9PQK8Xhos"
      },
      "outputs": [],
      "source": [
        "sentiment_test = pd.read_csv('testdata.manual.2009.06.14.csv', encoding='latin-1')\n",
        "sentiment_test.columns = ['Class', 'Id', 'Date','Query', 'User', 'Tweet']"
      ]
    },
    {
      "cell_type": "code",
      "execution_count": 14,
      "metadata": {
        "colab": {
          "base_uri": "https://localhost:8080/",
          "height": 206
        },
        "id": "bGONh0UCrLVl",
        "outputId": "c4b73a5c-31a8-4516-ca09-176b1b65b86c"
      },
      "outputs": [
        {
          "data": {
            "text/html": [
              "<div>\n",
              "<style scoped>\n",
              "    .dataframe tbody tr th:only-of-type {\n",
              "        vertical-align: middle;\n",
              "    }\n",
              "\n",
              "    .dataframe tbody tr th {\n",
              "        vertical-align: top;\n",
              "    }\n",
              "\n",
              "    .dataframe thead th {\n",
              "        text-align: right;\n",
              "    }\n",
              "</style>\n",
              "<table border=\"1\" class=\"dataframe\">\n",
              "  <thead>\n",
              "    <tr style=\"text-align: right;\">\n",
              "      <th></th>\n",
              "      <th>Class</th>\n",
              "      <th>Id</th>\n",
              "      <th>Date</th>\n",
              "      <th>Query</th>\n",
              "      <th>User</th>\n",
              "      <th>Tweet</th>\n",
              "    </tr>\n",
              "  </thead>\n",
              "  <tbody>\n",
              "    <tr>\n",
              "      <th>0</th>\n",
              "      <td>0</td>\n",
              "      <td>1467810672</td>\n",
              "      <td>Mon Apr 06 22:19:49 PDT 2009</td>\n",
              "      <td>NO_QUERY</td>\n",
              "      <td>scotthamilton</td>\n",
              "      <td>is upset that he can't update his Facebook by ...</td>\n",
              "    </tr>\n",
              "    <tr>\n",
              "      <th>1</th>\n",
              "      <td>0</td>\n",
              "      <td>1467810917</td>\n",
              "      <td>Mon Apr 06 22:19:53 PDT 2009</td>\n",
              "      <td>NO_QUERY</td>\n",
              "      <td>mattycus</td>\n",
              "      <td>@Kenichan I dived many times for the ball. Man...</td>\n",
              "    </tr>\n",
              "    <tr>\n",
              "      <th>2</th>\n",
              "      <td>0</td>\n",
              "      <td>1467811184</td>\n",
              "      <td>Mon Apr 06 22:19:57 PDT 2009</td>\n",
              "      <td>NO_QUERY</td>\n",
              "      <td>ElleCTF</td>\n",
              "      <td>my whole body feels itchy and like its on fire</td>\n",
              "    </tr>\n",
              "    <tr>\n",
              "      <th>3</th>\n",
              "      <td>0</td>\n",
              "      <td>1467811193</td>\n",
              "      <td>Mon Apr 06 22:19:57 PDT 2009</td>\n",
              "      <td>NO_QUERY</td>\n",
              "      <td>Karoli</td>\n",
              "      <td>@nationwideclass no, it's not behaving at all....</td>\n",
              "    </tr>\n",
              "    <tr>\n",
              "      <th>4</th>\n",
              "      <td>0</td>\n",
              "      <td>1467811372</td>\n",
              "      <td>Mon Apr 06 22:20:00 PDT 2009</td>\n",
              "      <td>NO_QUERY</td>\n",
              "      <td>joy_wolf</td>\n",
              "      <td>@Kwesidei not the whole crew</td>\n",
              "    </tr>\n",
              "  </tbody>\n",
              "</table>\n",
              "</div>"
            ],
            "text/plain": [
              "   Class          Id                          Date     Query           User  \\\n",
              "0      0  1467810672  Mon Apr 06 22:19:49 PDT 2009  NO_QUERY  scotthamilton   \n",
              "1      0  1467810917  Mon Apr 06 22:19:53 PDT 2009  NO_QUERY       mattycus   \n",
              "2      0  1467811184  Mon Apr 06 22:19:57 PDT 2009  NO_QUERY        ElleCTF   \n",
              "3      0  1467811193  Mon Apr 06 22:19:57 PDT 2009  NO_QUERY         Karoli   \n",
              "4      0  1467811372  Mon Apr 06 22:20:00 PDT 2009  NO_QUERY       joy_wolf   \n",
              "\n",
              "                                               Tweet  \n",
              "0  is upset that he can't update his Facebook by ...  \n",
              "1  @Kenichan I dived many times for the ball. Man...  \n",
              "2    my whole body feels itchy and like its on fire   \n",
              "3  @nationwideclass no, it's not behaving at all....  \n",
              "4                      @Kwesidei not the whole crew   "
            ]
          },
          "execution_count": 14,
          "metadata": {},
          "output_type": "execute_result"
        }
      ],
      "source": [
        "sentiment_train.head(5)"
      ]
    },
    {
      "cell_type": "code",
      "execution_count": 15,
      "metadata": {
        "colab": {
          "base_uri": "https://localhost:8080/",
          "height": 206
        },
        "id": "EFFBL1aqX68G",
        "outputId": "22f61e80-026f-465d-9001-1a5b8fb9d266"
      },
      "outputs": [
        {
          "data": {
            "text/html": [
              "<div>\n",
              "<style scoped>\n",
              "    .dataframe tbody tr th:only-of-type {\n",
              "        vertical-align: middle;\n",
              "    }\n",
              "\n",
              "    .dataframe tbody tr th {\n",
              "        vertical-align: top;\n",
              "    }\n",
              "\n",
              "    .dataframe thead th {\n",
              "        text-align: right;\n",
              "    }\n",
              "</style>\n",
              "<table border=\"1\" class=\"dataframe\">\n",
              "  <thead>\n",
              "    <tr style=\"text-align: right;\">\n",
              "      <th></th>\n",
              "      <th>Class</th>\n",
              "      <th>Id</th>\n",
              "      <th>Date</th>\n",
              "      <th>Query</th>\n",
              "      <th>User</th>\n",
              "      <th>Tweet</th>\n",
              "    </tr>\n",
              "  </thead>\n",
              "  <tbody>\n",
              "    <tr>\n",
              "      <th>0</th>\n",
              "      <td>4</td>\n",
              "      <td>4</td>\n",
              "      <td>Mon May 11 03:18:03 UTC 2009</td>\n",
              "      <td>kindle2</td>\n",
              "      <td>vcu451</td>\n",
              "      <td>Reading my kindle2...  Love it... Lee childs i...</td>\n",
              "    </tr>\n",
              "    <tr>\n",
              "      <th>1</th>\n",
              "      <td>4</td>\n",
              "      <td>5</td>\n",
              "      <td>Mon May 11 03:18:54 UTC 2009</td>\n",
              "      <td>kindle2</td>\n",
              "      <td>chadfu</td>\n",
              "      <td>Ok, first assesment of the #kindle2 ...it fuck...</td>\n",
              "    </tr>\n",
              "    <tr>\n",
              "      <th>2</th>\n",
              "      <td>4</td>\n",
              "      <td>6</td>\n",
              "      <td>Mon May 11 03:19:04 UTC 2009</td>\n",
              "      <td>kindle2</td>\n",
              "      <td>SIX15</td>\n",
              "      <td>@kenburbary You'll love your Kindle2. I've had...</td>\n",
              "    </tr>\n",
              "    <tr>\n",
              "      <th>3</th>\n",
              "      <td>4</td>\n",
              "      <td>7</td>\n",
              "      <td>Mon May 11 03:21:41 UTC 2009</td>\n",
              "      <td>kindle2</td>\n",
              "      <td>yamarama</td>\n",
              "      <td>@mikefish  Fair enough. But i have the Kindle2...</td>\n",
              "    </tr>\n",
              "    <tr>\n",
              "      <th>4</th>\n",
              "      <td>4</td>\n",
              "      <td>8</td>\n",
              "      <td>Mon May 11 03:22:00 UTC 2009</td>\n",
              "      <td>kindle2</td>\n",
              "      <td>GeorgeVHulme</td>\n",
              "      <td>@richardebaker no. it is too big. I'm quite ha...</td>\n",
              "    </tr>\n",
              "  </tbody>\n",
              "</table>\n",
              "</div>"
            ],
            "text/plain": [
              "   Class  Id                          Date    Query          User  \\\n",
              "0      4   4  Mon May 11 03:18:03 UTC 2009  kindle2        vcu451   \n",
              "1      4   5  Mon May 11 03:18:54 UTC 2009  kindle2        chadfu   \n",
              "2      4   6  Mon May 11 03:19:04 UTC 2009  kindle2         SIX15   \n",
              "3      4   7  Mon May 11 03:21:41 UTC 2009  kindle2      yamarama   \n",
              "4      4   8  Mon May 11 03:22:00 UTC 2009  kindle2  GeorgeVHulme   \n",
              "\n",
              "                                               Tweet  \n",
              "0  Reading my kindle2...  Love it... Lee childs i...  \n",
              "1  Ok, first assesment of the #kindle2 ...it fuck...  \n",
              "2  @kenburbary You'll love your Kindle2. I've had...  \n",
              "3  @mikefish  Fair enough. But i have the Kindle2...  \n",
              "4  @richardebaker no. it is too big. I'm quite ha...  "
            ]
          },
          "execution_count": 15,
          "metadata": {},
          "output_type": "execute_result"
        }
      ],
      "source": [
        "sentiment_test.head(5)"
      ]
    },
    {
      "cell_type": "code",
      "execution_count": 16,
      "metadata": {
        "id": "jCi0rsbFtpDs"
      },
      "outputs": [],
      "source": [
        "xtrain_sentiment, ytrain_sentiment = sentiment_train['Tweet'].to_numpy(), sentiment_train['Class'].to_numpy()\n",
        "xtest_sentiment, ytest_sentiment = sentiment_test['Tweet'].to_numpy(), sentiment_test['Class'].to_numpy()"
      ]
    },
    {
      "cell_type": "code",
      "execution_count": 17,
      "metadata": {
        "id": "HDw_ubD5vqXk"
      },
      "outputs": [],
      "source": [
        "# vectorize the sentiment dataset\n",
        "\n",
        "count_vect = CountVectorizer()\n",
        "xtrain_sentiment = count_vect.fit_transform(xtrain_sentiment[790000:810000])\n",
        "xtest_sentiment = count_vect.transform(xtest_sentiment)\n",
        "ytrain_sentiment = ytrain_sentiment[790000:810000]"
      ]
    },
    {
      "cell_type": "code",
      "execution_count": 18,
      "metadata": {
        "id": "PvCOouKxv8CL"
      },
      "outputs": [],
      "source": [
        "xtrain_sentiment = xtrain_sentiment.toarray()"
      ]
    },
    {
      "cell_type": "code",
      "execution_count": 19,
      "metadata": {
        "id": "AapgRDtRXxXN"
      },
      "outputs": [],
      "source": [
        "for i in range(len(ytrain_sentiment)):\n",
        "    if(ytrain_sentiment[i] == 4):\n",
        "        ytrain_sentiment[i] = 1"
      ]
    },
    {
      "cell_type": "code",
      "execution_count": 20,
      "metadata": {
        "id": "dR5ywV_ZVPhI"
      },
      "outputs": [],
      "source": [
        "xtest_sentiment = xtest_sentiment.toarray()"
      ]
    },
    {
      "cell_type": "code",
      "execution_count": 21,
      "metadata": {
        "id": "9lkQEp3xzx7n"
      },
      "outputs": [],
      "source": [
        "# remove the data with label=2 from the dataset\n",
        "xt_sentiment = []\n",
        "yt_sentiment = []\n",
        "\n",
        "for i, y in enumerate(ytest_sentiment):\n",
        "  if y != 2:\n",
        "    xt_sentiment.append(xtest_sentiment[i])\n",
        "    if y == 4:\n",
        "      yt_sentiment.append(1)\n",
        "    else:\n",
        "      yt_sentiment.append(y)\n",
        "  "
      ]
    },
    {
      "cell_type": "code",
      "execution_count": 22,
      "metadata": {
        "id": "BcL2mSXJ5MkB"
      },
      "outputs": [],
      "source": [
        "xtest_sentiment = xt_sentiment\n",
        "ytest_sentiment = yt_sentiment"
      ]
    },
    {
      "cell_type": "markdown",
      "metadata": {
        "id": "AwGTAzAi1JE9"
      },
      "source": [
        "### Statistics"
      ]
    },
    {
      "cell_type": "code",
      "execution_count": 23,
      "metadata": {
        "id": "VUsBH63716uy"
      },
      "outputs": [],
      "source": [
        "nlabels = {'positive': 0, 'negative': 0}\n",
        "\n",
        "for y in yt_sentiment:\n",
        "  if y == 0:\n",
        "    nlabels['negative'] += 1\n",
        "  else:\n",
        "    nlabels['positive'] += 1\n"
      ]
    },
    {
      "cell_type": "code",
      "execution_count": 24,
      "metadata": {
        "colab": {
          "base_uri": "https://localhost:8080/",
          "height": 353
        },
        "id": "gqoSGxVr1MLn",
        "outputId": "38157569-5eb6-4ccc-a56f-705259423e9f"
      },
      "outputs": [
        {
          "data": {
            "text/plain": [
              "Text(0.5, 1.0, 'Number of instance per class (Sentiment140 Dataset)')"
            ]
          },
          "execution_count": 24,
          "metadata": {},
          "output_type": "execute_result"
        },
        {
          "data": {
            "image/png": "[encoded data removed]",
            "text/plain": [
              "<Figure size 720x360 with 1 Axes>"
            ]
          },
          "metadata": {
            "needs_background": "light"
          },
          "output_type": "display_data"
        }
      ],
      "source": [
        "x = np.arange(2)\n",
        "plt.figure(figsize=(10,5))\n",
        "plt.bar(x, height=nlabels.values())\n",
        "plt.xticks(x, nlabels.keys())\n",
        "plt.title(\"Number of instance per class (Sentiment140 Dataset)\")"
      ]
    },
    {
      "cell_type": "markdown",
      "metadata": {
        "id": "rRq1E2b0zy6x"
      },
      "source": [
        "# Task 2: Naive Bayes and K-fold cross validation\n"
      ]
    },
    {
      "cell_type": "markdown",
      "metadata": {
        "id": "X_BIBLYj0A_2"
      },
      "source": [
        "## Multinomial Naive Bayes"
      ]
    },
    {
      "cell_type": "code",
      "execution_count": 25,
      "metadata": {
        "id": "zmFx06zTML6e"
      },
      "outputs": [],
      "source": [
        "import numpy as np"
      ]
    },
    {
      "cell_type": "code",
      "execution_count": 26,
      "metadata": {
        "id": "tV4x0FUWMn5W"
      },
      "outputs": [],
      "source": [
        "class MultinomialNaiveBayes:\n",
        "    \n",
        "    def __init__(self,alpha = 1.0):\n",
        "      self.alpha = alpha\n",
        "      return\n",
        "    \n",
        "    def fit(self, x, y):\n",
        "      N, D = x.shape\n",
        "      C = np.max(y) + 1\n",
        "      # one parameter for each feature conditioned on each class\n",
        "      theta = np.zeros((C,D))\n",
        "      Nc = np.zeros(C) # number of instances in class c\n",
        "      # for each class get the MLE for theata\n",
        "      for c in range(C):\n",
        "          x_c = x[y == c]                           #slice all the elements from class c\n",
        "          Nc[c] = x_c.shape[0]                      #get number of elements of class c\n",
        "          total = np.sum(x_c) + self.alpha * D\n",
        "          theta[c,:] = (np.sum(x_c,0)+self.alpha)/total                #theta of features of class c (sum rows together)\n",
        "          \n",
        "      self.pi = (Nc + self.alpha)/(N + C*self.alpha)\n",
        "      self.theta = theta                                             \n",
        "      return self\n",
        "\n",
        "def logsumexp(Z):                                                # dimension C x N\n",
        "    Zmax = np.max(Z,axis=0)[None,:]                              # max over C\n",
        "    log_sum_exp = Zmax + np.log(np.sum(np.exp(Z - Zmax), axis=0))\n",
        "    return log_sum_exp\n",
        "\n",
        "def predict(self, xt):\n",
        "    Nt, D = xt.shape\n",
        "    # print(self.theta.shape)\n",
        "    log_theta = np.log(self.theta)[:,None,:]      # log theta, shape C x D -> C x 1 x D\n",
        "    log_prior = np.log(self.pi)[:, None]          # shape C x 1\n",
        "    xt = xt[None,:,:]                             # change shape from N x D -> 1 x N x D\n",
        "    term_prod = xt* log_theta                     # x_d * log (theta_(d,y)) -> gives shape C x N x D\n",
        "    log_likelihood = np.sum(term_prod,2)          # sum along axis 2, thus log_likehood change from shape C x N x D -> C x N\n",
        "    log_posterior = log_prior + log_likelihood    # C x 1 + C x N -> C x N\n",
        "    posterior = np.exp(log_posterior - logsumexp(log_posterior))\n",
        "    final_posterior = np.argmax(posterior.T, 1)\n",
        "    return final_posterior                                                  # dimension N x C\n",
        "def evaluate_acc(self,y_pred,y_true):\n",
        "    return np.sum(y_pred == y_true)/y_true.shape[0]\n",
        "MultinomialNaiveBayes.predict = predict\n",
        "MultinomialNaiveBayes.evaluate_acc = evaluate_acc"
      ]
    },
    {
      "cell_type": "markdown",
      "metadata": {
        "id": "Rg04oAVgMqg1"
      },
      "source": [
        "## K fold related functions"
      ]
    },
    {
      "cell_type": "code",
      "execution_count": 27,
      "metadata": {
        "id": "EpDLDpRSMt7c"
      },
      "outputs": [],
      "source": [
        "def kfoldCV(x_train,y_train,x_test,y_test,model):\n",
        "  model.fit(x_train,y_train)\n",
        "  y_pred = model.predict(x_test)\n",
        "  return np.sum(y_pred == y_test)/y_test.shape[0]\n",
        "\n",
        "def cross_validation_split(x_data,y_data,k,model):\n",
        "  N = x_data.shape[0]\n",
        "  all_acc = np.zeros(k)\n",
        "  # model = MultinomialNaiveBayes(hyper_para)\n",
        "  for i in range(k):\n",
        "    start_index = int(i * N/k) \n",
        "    end_index = int(start_index + N/k)\n",
        "    x_test = x_data[start_index:end_index]\n",
        "    y_test = y_data[start_index:end_index]\n",
        "    x_train = np.delete(x_data,np.s_[start_index:end_index],0)\n",
        "    y_train = np.delete(y_data,np.s_[start_index:end_index],0)\n",
        "    all_acc[i] = kfoldCV(x_train,y_train,x_test,y_test,model)\n",
        "  return np.average(all_acc)"
      ]
    },
    {
      "cell_type": "markdown",
      "metadata": {
        "id": "Z-7Q5IbYY6IF"
      },
      "source": [
        "# Task 3: Run experiments"
      ]
    },
    {
      "cell_type": "markdown",
      "metadata": {
        "id": "I4gnHwpiZAp1"
      },
      "source": [
        "## Sampling Train and Test dataset"
      ]
    },
    {
      "cell_type": "code",
      "execution_count": 28,
      "metadata": {
        "id": "FLE9P28o0LGh"
      },
      "outputs": [],
      "source": [
        "x_train_ngroups = Xtrain_ngroups.toarray()[:2000]\n",
        "y_train_ngroups = Ytrain_ngroups[:2000]\n",
        "x_test_ngroups = Xtest_ngroups.toarray()[:500]\n",
        "y_test_ngroups = Ytest_ngroups[:500]\n",
        "\n",
        "x_train_sentiment = xtrain_sentiment[9000:11000]\n",
        "y_train_sentiment = ytrain_sentiment[9000:11000]\n",
        "x_test_sentiment = np.stack(xtest_sentiment, axis=0)\n",
        "y_test_sentiment = np.stack(ytest_sentiment, axis=0)"
      ]
    },
    {
      "cell_type": "markdown",
      "metadata": {
        "id": "UA69pbSDZJUF"
      },
      "source": [
        "## Find Best Hyperparameters"
      ]
    },
    {
      "cell_type": "markdown",
      "metadata": {
        "id": "nFEb1tkqp9zS"
      },
      "source": [
        "### 20 News groups dataset"
      ]
    },
    {
      "cell_type": "code",
      "execution_count": 29,
      "metadata": {
        "id": "JZYwkCc8qKBc"
      },
      "outputs": [],
      "source": [
        "from sklearn.linear_model import LogisticRegression"
      ]
    },
    {
      "cell_type": "markdown",
      "metadata": {
        "id": "0OBT2XTmr3gk"
      },
      "source": [
        "#### Naive Bayes"
      ]
    },
    {
      "cell_type": "code",
      "execution_count": 30,
      "metadata": {
        "id": "h0R1AqQ3MzHj"
      },
      "outputs": [
        {
          "name": "stdout",
          "output_type": "stream",
          "text": [
            "   Alpha  K fold  Avg Acc\n",
            "0    0.1       5   0.5105\n",
            "1    0.2       5   0.4420\n",
            "2    0.3       5   0.3800\n",
            "3    0.4       5   0.3465\n",
            "4    0.5       5   0.3160\n",
            "5    0.6       5   0.2895\n",
            "6    0.7       5   0.2700\n",
            "7    0.8       5   0.2565\n",
            "8    0.9       5   0.2430\n",
            "9    1.0       5   0.2320\n"
          ]
        }
      ],
      "source": [
        "# best alpha for multinomial naive bayes for ngroups dataset\n",
        "alpha_range = np.linspace(0.1,1,10)\n",
        "result_list = []\n",
        "alpha_index = []\n",
        "for alpha in alpha_range:\n",
        "    alpha = alpha.round(1)\n",
        "    model = MultinomialNaiveBayes(alpha=alpha)\n",
        "    avg_acc = cross_validation_split(x_train_ngroups,y_train_ngroups,5,model)\n",
        "    result_list.append([alpha,5,avg_acc])\n",
        "        \n",
        "df = pd.DataFrame(result_list,columns=[\"Alpha\",\"K fold\",\"Avg Acc\"])\n",
        "df = df.sort_values(by=\"Avg Acc\",ascending=False)\n",
        "print(df)\n",
        "# model_test = MultinomialNaiveBayes(0.1)\n",
        "# model_test.fit(x_train_ngroups,y_train_ngroups)\n",
        "# best_pred = model_test.predict(x_test_ngroups)\n",
        "# print(\"Accuracy on test dataset with the best smoothing parameter: \" ,model_test.evaluate_acc(best_pred,y_test_ngroups))"
      ]
    },
    {
      "cell_type": "markdown",
      "metadata": {
        "id": "2hW42WDqr-F6"
      },
      "source": [
        "#### Softmax"
      ]
    },
    {
      "cell_type": "code",
      "execution_count": 31,
      "metadata": {
        "id": "DVrahxg0XxXQ"
      },
      "outputs": [
        {
          "name": "stdout",
          "output_type": "stream",
          "text": [
            "     Penalty  C_val  K fold  Avg Acc\n",
            "line                                \n",
            "10        l1    1.3       5   0.4895\n",
            "11        l1    1.4       5   0.4860\n",
            "8         l1    1.1       5   0.4855\n",
            "9         l1    1.2       5   0.4855\n",
            "7         l1    1.0       5   0.4835\n",
            "13        l1    1.6       5   0.4835\n",
            "12        l1    1.5       5   0.4825\n",
            "0         l2    1.0       5   0.4760\n",
            "1         l2    1.1       5   0.4760\n",
            "4         l2    1.4       5   0.4755\n",
            "3         l2    1.3       5   0.4750\n",
            "2         l2    1.2       5   0.4745\n",
            "5         l2    1.5       5   0.4745\n",
            "6         l2    1.6       5   0.4730\n"
          ]
        }
      ],
      "source": [
        "# best hyperparameters (C values and Panalty) of softmaxt for ngroups dataset\n",
        "reg_range = np.linspace(1,2,10)\n",
        "result_list = []\n",
        "penalty_list = [\"l2\",\"l1\"]\n",
        "reg_range = np.linspace(1,2,11)\n",
        "for hyper1 in penalty_list:\n",
        "    for hyper2 in reg_range[:7]:\n",
        "        model = LogisticRegression(solver=\"liblinear\",penalty=hyper1,C=hyper2,max_iter=800) # hyper parameters to tune\n",
        "        avg_acc = cross_validation_split(x_train_ngroups,y_train_ngroups,5,model)\n",
        "        result_list.append([hyper1,hyper2,5,avg_acc])\n",
        "df = pd.DataFrame(result_list,columns=[\"Penalty\",\"C_val\",\"K fold\",\"Avg Acc\"])\n",
        "df.index.name=\"line\"\n",
        "df = df.sort_values(by=\"Avg Acc\",ascending=False)\n",
        "print(df)"
      ]
    },
    {
      "cell_type": "markdown",
      "metadata": {
        "id": "Uxd4YKF5q2X2"
      },
      "source": [
        "### Sentiment140 dataset"
      ]
    },
    {
      "cell_type": "markdown",
      "metadata": {
        "id": "FFNyrHPEsAvp"
      },
      "source": [
        "#### Naive Bayes"
      ]
    },
    {
      "cell_type": "code",
      "execution_count": 32,
      "metadata": {
        "id": "SvChJkG0XxXR"
      },
      "outputs": [
        {
          "name": "stdout",
          "output_type": "stream",
          "text": [
            "   Alpha  K fold  Avg Acc\n",
            "0    0.1       5   0.6990\n",
            "1    0.2       5   0.6500\n",
            "2    0.3       5   0.6085\n",
            "3    0.4       5   0.5645\n",
            "4    0.5       5   0.5455\n",
            "5    0.6       5   0.5210\n",
            "6    0.7       5   0.5040\n",
            "7    0.8       5   0.4905\n",
            "8    0.9       5   0.4800\n",
            "9    1.0       5   0.4725\n"
          ]
        }
      ],
      "source": [
        "# best alpha for multinomial of sentiment\n",
        "alpha_range = np.linspace(0,1,11)\n",
        "result_list = []\n",
        "alpha_index = []\n",
        "for alpha in alpha_range[1:]:\n",
        "    alpha = alpha.round(1)\n",
        "    model = MultinomialNaiveBayes(alpha=alpha)\n",
        "    avg_acc = cross_validation_split(x_train_sentiment,y_train_sentiment,5,model)\n",
        "    result_list.append([alpha,5,avg_acc])\n",
        "        \n",
        "df = pd.DataFrame(result_list,columns=[\"Alpha\",\"K fold\",\"Avg Acc\"])\n",
        "df = df.sort_values(by=\"Avg Acc\",ascending=False)\n",
        "print(df)\n",
        "# model_test = MultinomialNaiveBayes(0.1)\n",
        "# model_test.fit(x_train_sentiment,y_train_sentiment)\n",
        "# best_pred = model_test.predict(x_test_sentiment)\n",
        "# print(\"Accuracy on test dataset with the best smoothing parameter: \" ,model_test.evaluate_acc(best_pred,y_test_sentiment))"
      ]
    },
    {
      "cell_type": "markdown",
      "metadata": {
        "id": "HwKZPIPUsBkx"
      },
      "source": [
        "#### Softmax"
      ]
    },
    {
      "cell_type": "code",
      "execution_count": 33,
      "metadata": {
        "id": "lb_RDGdKXxXQ"
      },
      "outputs": [
        {
          "name": "stdout",
          "output_type": "stream",
          "text": [
            "     Penalty  C_val  K fold  Avg Acc\n",
            "line                                \n",
            "13        l1    1.6       5   0.6825\n",
            "6         l2    1.6       5   0.6795\n",
            "12        l1    1.5       5   0.6790\n",
            "5         l2    1.5       5   0.6785\n",
            "4         l2    1.4       5   0.6775\n",
            "11        l1    1.4       5   0.6760\n",
            "3         l2    1.3       5   0.6750\n",
            "2         l2    1.2       5   0.6745\n",
            "1         l2    1.1       5   0.6735\n",
            "10        l1    1.3       5   0.6735\n",
            "9         l1    1.2       5   0.6715\n",
            "0         l2    1.0       5   0.6705\n",
            "8         l1    1.1       5   0.6685\n",
            "7         l1    1.0       5   0.6655\n"
          ]
        }
      ],
      "source": [
        "# best hyperparameters (C values and Panalty) for sentiment dataset\n",
        "reg_range = np.linspace(1,2,10)\n",
        "result_list = []\n",
        "penalty_list = [\"l2\",\"l1\"]\n",
        "reg_range = np.linspace(1,2,11)\n",
        "for hyper1 in penalty_list:\n",
        "    for hyper2 in reg_range[:7]:\n",
        "        model = LogisticRegression(solver=\"liblinear\",penalty=hyper1,C=hyper2,max_iter=800) # hyper parameters to tune\n",
        "        avg_acc = cross_validation_split(x_train_sentiment,y_train_sentiment,5,model)\n",
        "        result_list.append([hyper1,hyper2,5,avg_acc])\n",
        "df = pd.DataFrame(result_list,columns=[\"Penalty\",\"C_val\",\"K fold\",\"Avg Acc\"])\n",
        "df.index.name=\"line\"\n",
        "df = df.sort_values(by=\"Avg Acc\",ascending=False)\n",
        "print(df)"
      ]
    },
    {
      "cell_type": "markdown",
      "metadata": {
        "id": "JwxnGcWOsJW-"
      },
      "source": [
        "## Compare Models with Best Hyperparameters"
      ]
    },
    {
      "cell_type": "code",
      "execution_count": 34,
      "metadata": {},
      "outputs": [],
      "source": [
        "import time"
      ]
    },
    {
      "cell_type": "markdown",
      "metadata": {
        "id": "XCEzqKjMscxd"
      },
      "source": [
        "### Sentiment140 dataset"
      ]
    },
    {
      "cell_type": "code",
      "execution_count": 35,
      "metadata": {
        "id": "2ua69_zWXxXQ"
      },
      "outputs": [
        {
          "name": "stdout",
          "output_type": "stream",
          "text": [
            "             Test accuracy  Avg_Predict Time  Fit Time  Total Time\n",
            "Softmax           0.689944          0.036888  0.513678    0.550566\n",
            "Naive Bayes       0.639665          0.101493  0.275138    0.376630\n"
          ]
        }
      ],
      "source": [
        "# compare sentiment dataset (average runtime for 10 times of prediction)\n",
        "reg_times = []\n",
        "byes_times = []\n",
        "reg_model = LogisticRegression(penalty=\"l1\",C=1.6,solver=\"liblinear\",max_iter=800)\n",
        "byes_model = MultinomialNaiveBayes(alpha=0.1)\n",
        "\n",
        "start = time.time()\n",
        "reg_model.fit(x_train_sentiment,y_train_sentiment)\n",
        "end = time.time()\n",
        "reg_fittime = end-start\n",
        "\n",
        "start = time.time()\n",
        "byes_model.fit(x_train_sentiment,y_train_sentiment)\n",
        "end = time.time()\n",
        "byes_fittime = end-start\n",
        "\n",
        "for i in range(10):\n",
        "    start = time.time()\n",
        "    reg_pred = reg_model.predict(x_test_sentiment)\n",
        "    reg_acc = np.sum(reg_pred == y_test_sentiment)/y_test_sentiment.shape[0]\n",
        "    end = time.time()\n",
        "    reg_time = end-start\n",
        "    \n",
        "    start = time.time()   \n",
        "    byes_pred = byes_model.predict(x_test_sentiment)\n",
        "    byes_acc = np.sum(byes_pred == y_test_sentiment)/y_test_sentiment.shape[0]\n",
        "    end = time.time()\n",
        "    byes_time = end - start\n",
        "\n",
        "    reg_times.append(reg_time)\n",
        "    byes_times.append(byes_time)\n",
        "\n",
        "result_list = [[reg_acc,np.average(reg_times),reg_fittime,np.average(reg_times) + reg_fittime],[byes_acc,np.average(byes_times),byes_fittime,np.average(byes_times)+byes_fittime]]\n",
        "df = pd.DataFrame(result_list,columns=[\"Test accuracy\",\"Avg_Predict Time\",\"Fit Time\", \"Total Time\"],index=[\"Softmax\",\"Naive Bayes\"])\n",
        "print(df)\n"
      ]
    },
    {
      "cell_type": "markdown",
      "metadata": {
        "id": "1Cm0cSF0sUhP"
      },
      "source": [
        "### 20 News groups dataset"
      ]
    },
    {
      "cell_type": "code",
      "execution_count": 36,
      "metadata": {
        "id": "C8tH4nBHXxXR"
      },
      "outputs": [
        {
          "name": "stdout",
          "output_type": "stream",
          "text": [
            "             Test accuracy  Avg_Predict Time  Fit Time  Total Time\n",
            "Softmax           0.614525          0.213383  3.762364    3.975747\n",
            "Naive Bayes       0.729050          4.664282  1.014694    5.678976\n"
          ]
        }
      ],
      "source": [
        "# compare ngroups dataset (average runtime for 10 times of prediction)\n",
        "reg_times = []\n",
        "byes_times = []\n",
        "\n",
        "reg_model = LogisticRegression(penalty=\"l1\",C=1.3,solver=\"liblinear\",max_iter=800)\n",
        "byes_model = MultinomialNaiveBayes(alpha=0.1)\n",
        "\n",
        "start = time.time()\n",
        "reg_model.fit(x_train_ngroups,y_train_ngroups)\n",
        "end = time.time()\n",
        "reg_fittime = end-start\n",
        "\n",
        "start = time.time()\n",
        "byes_model.fit(x_train_ngroups,y_train_ngroups)\n",
        "end = time.time()\n",
        "byes_fittime = end-start\n",
        "\n",
        "\n",
        "for i in range(10):\n",
        "    start = time.time()\n",
        "    reg_pred = reg_model.predict(x_test_ngroups)\n",
        "    reg_acc = np.sum(reg_pred == y_test_ngroups)/y_test_sentiment.shape[0]\n",
        "    end = time.time()\n",
        "    reg_time = end - start\n",
        "    \n",
        "    start = time.time()\n",
        "    byes_pred = byes_model.predict(x_test_ngroups)\n",
        "    byes_acc = np.sum(byes_pred == y_test_ngroups)/y_test_sentiment.shape[0]\n",
        "    end = time.time()\n",
        "    byes_time = end - start\n",
        "\n",
        "    reg_times.append(reg_time)\n",
        "    byes_times.append(byes_time)\n",
        "    \n",
        "result_list = [[reg_acc,np.average(reg_times),reg_fittime,np.average(reg_times) + reg_fittime],[byes_acc,np.average(byes_times),byes_fittime,np.average(byes_times)+byes_fittime]]\n",
        "df = pd.DataFrame(result_list,columns=[\"Test accuracy\",\"Avg_Predict Time\",\"Fit Time\", \"Total Time\"],index=[\"Softmax\",\"Naive Bayes\"])\n",
        "print(df)\n"
      ]
    },
    {
      "cell_type": "markdown",
      "metadata": {
        "id": "cfQi0RUgs3rN"
      },
      "source": [
        "## Plot Performance on Portions of Train data"
      ]
    },
    {
      "cell_type": "code",
      "execution_count": 37,
      "metadata": {
        "id": "cWQbKZgYtgHM"
      },
      "outputs": [],
      "source": [
        "import matplotlib.pyplot as plt"
      ]
    },
    {
      "cell_type": "code",
      "execution_count": 38,
      "metadata": {
        "id": "XK3pOZmHXxXS"
      },
      "outputs": [],
      "source": [
        "def plot_data(data,percent_list):\n",
        "  # set width of bar\n",
        "  barWidth = 0.25\n",
        "  fig = plt.subplots(figsize =(18, 15))\n",
        "  # Set position of bar on X axis\n",
        "  br1 = np.arange(len(data[0])) + 0.125\n",
        "  br2 = [x + barWidth for x in br1]\n",
        "\n",
        "  for a,b in zip(br1,data[0]):\n",
        "      plt.text(a, b, round(b,3), ha='center', va= 'bottom',fontsize=11)\n",
        "\n",
        "  for a,b in zip(br2,data[1]):\n",
        "      plt.text(a, b, round(b,3), ha='center', va= 'bottom',fontsize=11)\n",
        "\n",
        "  # Make the plot\n",
        "  plt.bar(br1, data[0], color ='r', width = barWidth,edgecolor ='grey', label ='Softmax')\n",
        "  plt.bar(br2, data[1], color ='g', width = barWidth,edgecolor ='grey', label ='Bayes')\n",
        "\n",
        "  # highlight max (change color of certain bar)\n",
        "  reg_max = np.argmax(data[0])\n",
        "  bayes_max = np.argmax(data[1])\n",
        "  plt.bar(br1[reg_max],data[0][reg_max],color ='b',width = barWidth,edgecolor ='grey',label ='Softmax: Max Acc')\n",
        "  plt.bar(br2[bayes_max],data[1][bayes_max],color ='y',width = barWidth,edgecolor ='grey',label ='Bayes: Max Acc')\n",
        "\n",
        "  # Adding Xticks\n",
        "  plt.xlabel('Percentage of Train Dataset (percentage)', fontweight ='bold', fontsize = 15)\n",
        "  plt.ylabel('Accuracy of Models', fontweight ='bold', fontsize = 15)\n",
        "  plt.xticks([r + barWidth for r in range(len(data[0]))], np.round(percent_list,1) * 100)\n",
        "\n",
        "  # plot graphs\n",
        "  plt.legend()\n",
        "  plt.show()"
      ]
    },
    {
      "cell_type": "code",
      "execution_count": 39,
      "metadata": {
        "id": "Cq4oLAxHvR5i"
      },
      "outputs": [],
      "source": [
        "def plot_fitdata(percent_list,reg_model,byes_model,x_train,y_train,x_test,y_test):\n",
        "  np.random.seed(0)\n",
        "  sentiment_size = x_train.shape[0]\n",
        "  reg_acc_list = []\n",
        "  byes_acc_list = []\n",
        "  data = []\n",
        "  for percent in percent_list:\n",
        "    # get random portions of train data\n",
        "    indexes = np.random.randint(sentiment_size,size= int(sentiment_size * percent))\n",
        "    x_train_rand = x_train[indexes,:]\n",
        "    y_train_rand = y_train[indexes]\n",
        "\n",
        "    # train on such portions of data\n",
        "    reg_model.fit(x_train_rand,y_train_rand)\n",
        "    byes_model.fit(x_train_rand,y_train_rand)\n",
        "\n",
        "    # predict based on trained result\n",
        "    reg_pred = reg_model.predict(x_test)\n",
        "    byes_pred = byes_model.predict(x_test)\n",
        "\n",
        "    # find accuracy and record them\n",
        "    reg_acc = np.sum(reg_pred == y_test)/y_test.shape[0]\n",
        "    byes_acc = np.sum(byes_pred == y_test)/y_test.shape[0]\n",
        "    reg_acc_list.append(reg_acc)\n",
        "    byes_acc_list.append(byes_acc)\n",
        "  data.append(reg_acc_list)\n",
        "  data.append(byes_acc_list)\n",
        "  plot_data(data,percent_list)"
      ]
    },
    {
      "cell_type": "code",
      "execution_count": 40,
      "metadata": {
        "id": "e_lGBl6PzugY"
      },
      "outputs": [],
      "source": [
        "# set up\n",
        "portion_num = 4\n",
        "percent_list = np.linspace(0,1,portion_num+2)[1:portion_num+1]"
      ]
    },
    {
      "cell_type": "markdown",
      "metadata": {
        "id": "gR--alg0tHCT"
      },
      "source": [
        "### 20 News groups dataset"
      ]
    },
    {
      "cell_type": "code",
      "execution_count": 41,
      "metadata": {
        "id": "itD9_XTwzwUc"
      },
      "outputs": [
        {
          "data": {
            "image/png": "[encoded data removed]",
            "text/plain": [
              "<Figure size 1296x1080 with 1 Axes>"
            ]
          },
          "metadata": {
            "needs_background": "light"
          },
          "output_type": "display_data"
        }
      ],
      "source": [
        "# best hyperparameters observed from previous results (ngroups)\n",
        "reg_model = LogisticRegression(penalty=\"l1\",C=1.3,solver=\"liblinear\",max_iter=800)\n",
        "byes_model = MultinomialNaiveBayes(alpha=0.1)\n",
        "plot_fitdata(percent_list,reg_model,byes_model,x_train_ngroups,y_train_ngroups,x_test_ngroups,y_test_ngroups)"
      ]
    },
    {
      "cell_type": "markdown",
      "metadata": {
        "id": "bSw_m2Dyz5Gn"
      },
      "source": [
        "### Sentiment140 dataset"
      ]
    },
    {
      "cell_type": "code",
      "execution_count": 42,
      "metadata": {
        "id": "2m11_fm4wwBd"
      },
      "outputs": [
        {
          "data": {
            "image/png": "[encoded data removed]",
            "text/plain": [
              "<Figure size 1296x1080 with 1 Axes>"
            ]
          },
          "metadata": {
            "needs_background": "light"
          },
          "output_type": "display_data"
        }
      ],
      "source": [
        "# best hyperparameters observed from previous results (sentiment)\n",
        "reg_model = LogisticRegression(penalty=\"l1\",C=1.6,solver=\"liblinear\",max_iter=800)\n",
        "byes_model = MultinomialNaiveBayes(alpha=0.1)\n",
        "plot_fitdata(percent_list,reg_model,byes_model,x_train_sentiment,y_train_sentiment,x_test_sentiment,y_test_sentiment)"
      ]
    }
  ],
  "metadata": {
    "colab": {
      "collapsed_sections": [],
      "name": "P2_Preprocessing.ipynb",
      "provenance": [],
      "toc_visible": true
    },
    "kernelspec": {
      "display_name": "Python 3",
      "name": "python3"
    },
    "language_info": {
      "codemirror_mode": {
        "name": "ipython",
        "version": 3
      },
      "file_extension": ".py",
      "mimetype": "text/x-python",
      "name": "python",
      "nbconvert_exporter": "python",
      "pygments_lexer": "ipython3",
      "version": "3.9.1"
    }
  },
  "nbformat": 4,
  "nbformat_minor": 0
}
