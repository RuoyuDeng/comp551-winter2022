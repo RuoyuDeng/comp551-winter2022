{
  "cells": [
    {
      "cell_type": "markdown",
      "metadata": {
        "id": "mYQkf8ueJKGA"
      },
      "source": [
        "# Task 1: Aquire the data"
      ]
    },
    {
      "cell_type": "code",
      "execution_count": 3,
      "metadata": {
        "id": "qF_XZhZIIijK"
      },
      "outputs": [],
      "source": [
        "from tensorflow import keras\n",
        "import tensorflow as tf\n",
        "tf.config.run_functions_eagerly(True)\n",
        "import matplotlib.pyplot as plt\n",
        "import numpy as np\n",
        "import pandas as pd\n",
        "import math\n",
        "from scipy.special import softmax"
      ]
    },
    {
      "cell_type": "code",
      "execution_count": 4,
      "metadata": {
        "colab": {
          "base_uri": "https://localhost:8080/"
        },
        "id": "vXMUE4utJJUU",
        "outputId": "f57907dd-a6de-44c1-9144-a410434e10c3"
      },
      "outputs": [],
      "source": [
        "(x_train, y_train), (x_test, y_test) = keras.datasets.fashion_mnist.load_data()"
      ]
    },
    {
      "cell_type": "code",
      "execution_count": 5,
      "metadata": {
        "colab": {
          "base_uri": "https://localhost:8080/"
        },
        "id": "HrYtvwIkKkcc",
        "outputId": "1c1edbdd-a719-4e89-a9e6-7f9aaca9d542"
      },
      "outputs": [
        {
          "data": {
            "text/plain": [
              "(60000, 28, 28)"
            ]
          },
          "execution_count": 5,
          "metadata": {},
          "output_type": "execute_result"
        }
      ],
      "source": [
        "x_train.shape # 60000 28x28 train images"
      ]
    },
    {
      "cell_type": "code",
      "execution_count": 6,
      "metadata": {
        "colab": {
          "base_uri": "https://localhost:8080/"
        },
        "id": "C_MnJEKJV1Xb",
        "outputId": "f7736b8c-fe60-4980-f6ae-92d8db29d992"
      },
      "outputs": [],
      "source": [
        "# inputs for CNN convolutional layers (not flattened)\n",
        "x_train_img = x_train.reshape(60000,28,28,1)/255\n",
        "x_test_img = x_test.reshape(10000,28,28,1)/255\n"
      ]
    },
    {
      "cell_type": "code",
      "execution_count": 7,
      "metadata": {
        "colab": {
          "base_uri": "https://localhost:8080/"
        },
        "id": "Ey8QFY-5Kpr1",
        "outputId": "59bb79a1-570b-4460-87e7-5c6c82f973f3"
      },
      "outputs": [
        {
          "data": {
            "text/plain": [
              "array([0, 1, 2, 3, 4, 5, 6, 7, 8, 9], dtype=uint8)"
            ]
          },
          "execution_count": 7,
          "metadata": {},
          "output_type": "execute_result"
        }
      ],
      "source": [
        "np.unique(y_train) # 10 labels"
      ]
    },
    {
      "cell_type": "code",
      "execution_count": 8,
      "metadata": {
        "colab": {
          "base_uri": "https://localhost:8080/"
        },
        "id": "OsYBzQrFK-RQ",
        "outputId": "df607ade-012d-4e1f-8da7-c044359c4425"
      },
      "outputs": [
        {
          "data": {
            "text/plain": [
              "(10000, 28, 28)"
            ]
          },
          "execution_count": 8,
          "metadata": {},
          "output_type": "execute_result"
        }
      ],
      "source": [
        "x_test.shape # 10000 28x28 test images"
      ]
    },
    {
      "cell_type": "code",
      "execution_count": 9,
      "metadata": {
        "colab": {
          "base_uri": "https://localhost:8080/"
        },
        "id": "LZWQrOG0hfZd",
        "outputId": "dd8d318d-b467-4578-e2f8-380a60bd6caf"
      },
      "outputs": [
        {
          "data": {
            "image/png": "[encoded data removed]",
            "text/plain": [
              "<Figure size 432x288 with 1 Axes>"
            ]
          },
          "metadata": {
            "needs_background": "light"
          },
          "output_type": "display_data"
        }
      ],
      "source": [
        "# check how the image looks like without preprocessing \n",
        "plt.figure()\n",
        "plt.imshow(x_train[0]) # show the first image of the dataset from train_images\n",
        "# plt.colorbar() # see the intensity of the pixel of the image\n",
        "plt.show() "
      ]
    },
    {
      "cell_type": "code",
      "execution_count": 10,
      "metadata": {
        "id": "4FNRHBC_5iab"
      },
      "outputs": [],
      "source": [
        "# we need to flatten the images so we can put it into the MLP \n",
        "x_train = x_train.reshape(60000, 28*28)\n",
        "x_test = x_test.reshape(10000, 28*28)"
      ]
    },
    {
      "cell_type": "code",
      "execution_count": 11,
      "metadata": {
        "id": "IWL58ageeKUX"
      },
      "outputs": [],
      "source": [
        "# nomalization \n",
        "xmean_train = np.mean(x_train,axis=1).reshape(60000,1)\n",
        "xmean_test = np.mean(x_test, axis=1).reshape(10000,1)\n",
        "xstd_train = np.std(x_train,axis=1).reshape(60000,1)\n",
        "xstd_test = np.std(x_test,axis=1).reshape(10000,1)\n",
        "\n",
        "# unormalized training data\n",
        "x_train_unnorm = x_train\n",
        "x_test_unnorm = x_test\n",
        "x_train = (x_train - xmean_train)/xstd_train # subtract the mean to center the cloud of data around the origin along every dimension (the data is centered at 0)\n",
        "x_test = (x_test - xmean_test)/xstd_test"
      ]
    },
    {
      "cell_type": "code",
      "execution_count": 12,
      "metadata": {
        "id": "sO0wkP3TpNmk"
      },
      "outputs": [],
      "source": [
        "# change labels from N x 1 to N x C\n",
        "y_train_C = keras.utils.to_categorical(y_train,10)\n",
        "y_test_C = keras.utils.to_categorical(y_test,10)"
      ]
    },
    {
      "cell_type": "markdown",
      "metadata": {
        "id": "s3LitBZ-khM1"
      },
      "source": [
        "## Exploration\n"
      ]
    },
    {
      "cell_type": "code",
      "execution_count": 189,
      "metadata": {
        "id": "2Y8A7O5pkNBw"
      },
      "outputs": [],
      "source": [
        "class_names = ['T-shirt/top', 'Trouser', 'Pullover', 'Dress', 'Coat', 'Sandal', 'Shirt', 'Sneaker', 'Bag', 'Ankle boot']\n",
        "labels = []\n",
        "for i in range(len(y_train)):\n",
        "  labels.append(class_names[y_train[i]])"
      ]
    },
    {
      "cell_type": "code",
      "execution_count": 190,
      "metadata": {
        "colab": {
          "base_uri": "https://localhost:8080/"
        },
        "id": "xK28yWwXpE_e",
        "outputId": "87c393c1-55bd-4461-c402-4ab48eba35dc"
      },
      "outputs": [
        {
          "data": {
            "text/plain": [
              "'Ankle boot'"
            ]
          },
          "execution_count": 190,
          "metadata": {},
          "output_type": "execute_result"
        }
      ],
      "source": [
        "labels[0]"
      ]
    },
    {
      "cell_type": "code",
      "execution_count": 191,
      "metadata": {
        "colab": {
          "base_uri": "https://localhost:8080/"
        },
        "id": "SBMMVDiYng_p",
        "outputId": "131ecac7-0eef-4830-f7b3-53335a4aee18"
      },
      "outputs": [
        {
          "name": "stdout",
          "output_type": "stream",
          "text": [
            "Ankle boot     6000\n",
            "T-shirt/top    6000\n",
            "Dress          6000\n",
            "Pullover       6000\n",
            "Sneaker        6000\n",
            "Sandal         6000\n",
            "Trouser        6000\n",
            "Shirt          6000\n",
            "Coat           6000\n",
            "Bag            6000\n",
            "dtype: int64\n"
          ]
        }
      ],
      "source": [
        "count = pd.Series(labels[:]).value_counts()\n",
        "print(count) "
      ]
    },
    {
      "cell_type": "code",
      "execution_count": 192,
      "metadata": {
        "colab": {
          "base_uri": "https://localhost:8080/"
        },
        "id": "2KslBfFfm7Dh",
        "outputId": "2bfbdf42-3e6b-4ed6-b88d-f0f08b0e0941"
      },
      "outputs": [
        {
          "data": {
            "text/plain": [
              "(array([0, 1, 2, 3, 4, 5, 6, 7, 8, 9]),\n",
              " [Text(0, 0, 'Ankle boot'),\n",
              "  Text(1, 0, 'T-shirt/top'),\n",
              "  Text(2, 0, 'Dress'),\n",
              "  Text(3, 0, 'Pullover'),\n",
              "  Text(4, 0, 'Sneaker'),\n",
              "  Text(5, 0, 'Sandal'),\n",
              "  Text(6, 0, 'Trouser'),\n",
              "  Text(7, 0, 'Shirt'),\n",
              "  Text(8, 0, 'Coat'),\n",
              "  Text(9, 0, 'Bag')])"
            ]
          },
          "execution_count": 192,
          "metadata": {},
          "output_type": "execute_result"
        },
        {
          "data": {
            "image/png": "[encoded data removed]",
            "text/plain": [
              "<Figure size 432x288 with 1 Axes>"
            ]
          },
          "metadata": {
            "needs_background": "light"
          },
          "output_type": "display_data"
        }
      ],
      "source": [
        "count.plot.bar(rot=0) # so we have 6000 sample per label\n",
        "plt.xticks(rotation ='vertical')"
      ]
    },
    {
      "cell_type": "markdown",
      "metadata": {
        "id": "df5vNB8EpyFX"
      },
      "source": [
        "# Task 2: Implement a Multilayer Perceptron"
      ]
    },
    {
      "cell_type": "code",
      "execution_count": 19,
      "metadata": {
        "id": "RwKO6mCMp7GY"
      },
      "outputs": [],
      "source": [
        "def softmax_n(x):\n",
        "  result = []\n",
        "  for i in range(x.shape[0]):\n",
        "    result.append(softmax(x[i]))\n",
        "  return np.stack(result,axis=0)\n",
        "\n",
        "# use softmax at last layer\n",
        "class MLP:\n",
        "    \n",
        "    def __init__(self, M=64, layer_num=2, active_func=\"relu\", lrelu_gamma=0.7,dropout=1): # M is number of hidden units\n",
        "        self.M = M\n",
        "        self.layer_num = layer_num\n",
        "        self.lrelu_gamma = lrelu_gamma\n",
        "        self.dropout = dropout\n",
        "        \n",
        "        def lrelu(x):\n",
        "          temp = np.copy(x)\n",
        "          for i in range(temp.shape[0]):\n",
        "            for j in range(temp.shape[1]):\n",
        "              if x[i][j] > 0:\n",
        "                temp[i][j] = x[i][j]\n",
        "              else:\n",
        "                temp[i][j] = x[i][j] * self.lrelu_gamma\n",
        "          return temp\n",
        "\n",
        "        def relu(d):\n",
        "          temp = np.copy(d)\n",
        "          for i in range(d.shape[0]):\n",
        "            for j in range(d.shape[1]):\n",
        "              if d[i][j] > 0:\n",
        "                temp[i][j] = d[i][j]\n",
        "              else:\n",
        "                temp[i][j] = 0\n",
        "          return temp\n",
        "\n",
        "        np_tanh = lambda x: np.tanh(x)\n",
        "\n",
        "        def dlrelu(x):\n",
        "          temp = np.copy(x)\n",
        "          for i in range(temp.shape[0]):\n",
        "            for j in range(temp.shape[1]):\n",
        "              if x[i][j] > 0:\n",
        "                temp[i][j] = 1\n",
        "              elif x[i][j] < 0:\n",
        "                temp[i][j] = self.lrelu_gamma\n",
        "              else:\n",
        "                temp[i][j] = 0\n",
        "          return temp\n",
        "            \n",
        "        def drelu(x):\n",
        "          temp = np.copy(x)\n",
        "          for i in range(temp.shape[0]):\n",
        "            for j in range(temp.shape[1]):\n",
        "              if x[i][j] > 0:\n",
        "                temp[i][j] = 1\n",
        "              else:\n",
        "                temp[i][j] = 0\n",
        "          return temp\n",
        "\n",
        "        def dtanh(x):\n",
        "          return 1 - (np.tanh(x) * np.tanh(x))\n",
        "\n",
        "        if active_func == \"lrelu\":\n",
        "          self.acfun = lrelu\n",
        "          self.dfunc = drelu\n",
        "        elif active_func == \"relu\":\n",
        "          self.acfun = relu\n",
        "          self.dfunc = drelu\n",
        "        elif active_func == \"tanh\": \n",
        "          self.acfun = np_tanh\n",
        "          self.dfunc = np.vectorize(dtanh)\n",
        "                    \n",
        "    def fit(self, x, y, optimizer,pre_params=[]):\n",
        "        N,D = x.shape\n",
        "        def gradient(x, y, params):\n",
        "          dparams = []\n",
        "          # has 0 hidden layer [w0]\n",
        "          if len(params) == 1:\n",
        "            #forward\n",
        "            w0 = params[0] # D x C\n",
        "            yh = softmax_n(np.dot(x,w0)) # N x D dot D x C -> N x C\n",
        "            # yh = np.argmax(yh_before,axis=1)[:,None] # change from N x C -> N x 1\n",
        "            dy = yh - y # N x C\n",
        "            \n",
        "            #backprop\n",
        "            dw0 = np.dot(x.T, dy) # D x N dot N x C -> D x C\n",
        "            dparams = [dw0] # D x C\n",
        "\n",
        "\n",
        "          elif len(params) == 2: # hidden = 1\n",
        "            # forward\n",
        "            w0,w1 = params # w0: D x M, w1: M x C\n",
        "            s0 = np.dot(x,w0) # N x M\n",
        "            z0 = self.acfun(s0) # N x M\n",
        "            s1 = np.dot(z0,w1) # N x M dot M x C -> N x C\n",
        "            yh= softmax_n(s1) # N x C\n",
        "            dy = (yh - y) # N x C\n",
        "\n",
        "            # backprop\n",
        "            dw1 = np.dot(z0.T,dy) # M x N dot N x C -> M x C\n",
        "            tmp = np.dot(dy,w1.T) # N x C dot C x M -> N x M\n",
        "            tmp = tmp * self.dfunc(s0) # N x M * N x M -> N x M       \n",
        "            dw0 = np.dot(x.T, tmp) # D x N dot N x M -> D x M\n",
        "            dparams = [dw0,dw1] # dw0: D x M, dw1: M x C\n",
        "            \n",
        "          elif len(params) == 3: # hidden = 2\n",
        "            # forward\n",
        "            w0,w1,w2 = params # w0: D x M, w1: M x M, w2: M x C\n",
        "            s0 = np.dot(x,w0) # N x D dot D x M -> N x M\n",
        "            z0 = self.acfun(s0) # N x M\n",
        "            s1 = np.dot(z0,w1) # N x M dot M x M -> N x M\n",
        "            z1 = self.acfun(s1) # N x M\n",
        "            s2 = np.dot(z1,w2) # N x M dot M x C -> N x C\n",
        "            yh = softmax_n(s2) # N x C -> N x C\n",
        "            dy = (yh - y) # N x C\n",
        "\n",
        "            # backprop\n",
        "            dw2 = np.dot(z1.T, dy) # M x N dot N x C -> M x C\n",
        "\n",
        "            term1 = np.dot(w2,dy.T) # M x C dot C x N -> M x N\n",
        "            term2 = self.dfunc(s1) * z0 # N x M * N x M -> N x M\n",
        "            dw1 = np.dot(term1,term2) # M x N dot N x M -> M x M\n",
        "\n",
        "            term1 = np.dot(dy,w2.T) # N x C dot C x M -> N x M\n",
        "            term2 = term1 * self.dfunc(s1) # N x M * N x M\n",
        "            term3 = np.dot(term2, w1) # N x M dot M x M -> N x M\n",
        "            term4 = term3 * self.dfunc(s0) # N x M * N x M -> N x M\n",
        "            dw0 = np.dot(x.T,term4) # D x N dot N x M -> D x M\n",
        "            dparams = [dw0,dw1,dw2]\n",
        "          return dparams\n",
        "\n",
        "        M_new = int(self.M * self.dropout) + 1 # size + 1 (the bias)\n",
        "        D_new = int(D * self.dropout)\n",
        "        x_new = np.copy(x)\n",
        "        if self.dropout < 1:\n",
        "          # select randomly some features if dropout < 1\n",
        "          self.drop_index = np.random.randint(D,size=D_new)\n",
        "          x_new = x_new[:,self.drop_index]\n",
        "\n",
        "        D_new += 1 # size + 1 (the bias)\n",
        "        # add 1 column of random numbers to x as bias (bias is in shape N x 1)\n",
        "        new_col = np.random.randn(N,1) * .01\n",
        "        x_new = np.append(x_new,new_col,axis=1)\n",
        "          \n",
        "        # if trained based on previous params\n",
        "        if pre_params != []:\n",
        "          params0 = pre_params\n",
        "        else:\n",
        "          C = 10\n",
        "          if self.layer_num == 0:\n",
        "            w0 = np.random.randn(D_new,C) * .01 # D x C\n",
        "            params0 = [w0]\n",
        "          elif self.layer_num == 1:\n",
        "            w0 = np.random.randn(D_new,M_new) * .01 # D x M\n",
        "            w1 = np.random.randn(M_new,C) * .01 # M x C\n",
        "            params0 = [w0,w1]\n",
        "          elif self.layer_num == 2:\n",
        "            w0 = np.random.randn(D_new,M_new) * .01 # D x M\n",
        "            w1 = np.random.randn(M_new,M_new) * .01 # M x M\n",
        "            w2 = np.random.randn(M_new,C) * .01 # M x C\n",
        "            params0 = [w0,w1,w2]\n",
        "\n",
        "        self.params = optimizer.run(gradient, x_new, y, params0)\n",
        "        return self\n",
        "    \n",
        "    def predict(self, x):\n",
        "      if(self.dropout < 1):\n",
        "        input = x[:,self.drop_index]\n",
        "      else:\n",
        "        input = x\n",
        "\n",
        "      for i in range(len(self.params)):\n",
        "        if(i  == len(self.params)-1):\n",
        "          input = np.dot(input,self.params[i][:-1]) # igonore the bias row when predicting\n",
        "        else:\n",
        "          input = self.acfun(np.dot(input,self.params[i][:-1,:-1])) \n",
        "      yh = softmax(input)\n",
        "      return yh\n",
        "\n",
        "    def evaluate_acc(self,y_pred,y_true):\n",
        "      # y_pred and y_true are N x C\n",
        "      y_pred = np.argmax(y_pred,axis=1)\n",
        "      y_true = np.argmax(y_true,axis=1)\n",
        "      return np.sum(y_pred == y_true)/y_true.shape[0]"
      ]
    },
    {
      "cell_type": "code",
      "execution_count": 20,
      "metadata": {
        "id": "-0-_EbjR-Exr"
      },
      "outputs": [],
      "source": [
        "class GradientDescent:\n",
        "  # default batch size 30\n",
        "  def __init__(self, learning_rate=.001, max_iters=10000, epsilon=1e-8, batch_size = 30):\n",
        "      self.learning_rate = learning_rate\n",
        "      self.max_iters = max_iters\n",
        "      self.epsilon = epsilon\n",
        "      self.batch_size = batch_size\n",
        "      \n",
        "  def run(self, gradient_fn, x, y, params):\n",
        "      # cur_loss = np.array([np.inf])\n",
        "      norms = np.array([np.inf])\n",
        "      t = 1\n",
        "      while np.any(norms > self.epsilon) and t < self.max_iters:\n",
        "        # sampling a batch size of 100 from all indexes in x\n",
        "        N,D = x.shape\n",
        "        C = 10\n",
        "        batch_index = np.random.randint(N,size=self.batch_size)\n",
        "        x_batch = x[batch_index] # N x D\n",
        "        y_batch = y[batch_index] # N x C\n",
        "        grad = gradient_fn(x_batch, y_batch, params)\n",
        "        for p in range(len(params)):\n",
        "          params[p] -= self.learning_rate * grad[p]\n",
        "        t += 1\n",
        "        norms = np.array([np.linalg.norm(g) for g in grad])\n",
        "      # print(t)\n",
        "      return params"
      ]
    },
    {
      "cell_type": "markdown",
      "metadata": {
        "id": "Ex6fSHHVAZa6"
      },
      "source": [
        "# Task 3: Run the experiments and report"
      ]
    },
    {
      "cell_type": "code",
      "execution_count": 199,
      "metadata": {
        "id": "MlosQz8awsNo"
      },
      "outputs": [],
      "source": [
        "# optimizer used for all experiments\n",
        "optimizer = GradientDescent(learning_rate=0.0002,max_iters=6000)"
      ]
    },
    {
      "cell_type": "code",
      "execution_count": 200,
      "metadata": {
        "id": "KSKwdKzwCqvt"
      },
      "outputs": [],
      "source": [
        "def compare_models(model_list,optimizer):\n",
        "  test_acc = []\n",
        "  for model in model_list:\n",
        "    model.fit(x_train,y_train_C,optimizer)\n",
        "    y_pred = model.predict(x_test)\n",
        "    test_acc.append([model.evaluate_acc(y_pred,y_test_C)])\n",
        "  return test_acc"
      ]
    },
    {
      "cell_type": "code",
      "execution_count": 201,
      "metadata": {
        "id": "lRMquN1AAk6L"
      },
      "outputs": [
        {
          "data": {
            "text/html": [
              "<div>\n",
              "<style scoped>\n",
              "    .dataframe tbody tr th:only-of-type {\n",
              "        vertical-align: middle;\n",
              "    }\n",
              "\n",
              "    .dataframe tbody tr th {\n",
              "        vertical-align: top;\n",
              "    }\n",
              "\n",
              "    .dataframe thead th {\n",
              "        text-align: right;\n",
              "    }\n",
              "</style>\n",
              "<table border=\"1\" class=\"dataframe\">\n",
              "  <thead>\n",
              "    <tr style=\"text-align: right;\">\n",
              "      <th></th>\n",
              "      <th>Test Accuracy</th>\n",
              "      <th>Activate Function</th>\n",
              "      <th>Hidden Layer</th>\n",
              "      <th>Dropout Ratio</th>\n",
              "      <th>Normalized Train Data</th>\n",
              "    </tr>\n",
              "  </thead>\n",
              "  <tbody>\n",
              "    <tr>\n",
              "      <th>0</th>\n",
              "      <td>0.8352</td>\n",
              "      <td>Relu</td>\n",
              "      <td>0</td>\n",
              "      <td>1</td>\n",
              "      <td>True</td>\n",
              "    </tr>\n",
              "    <tr>\n",
              "      <th>1</th>\n",
              "      <td>0.8334</td>\n",
              "      <td>Relu</td>\n",
              "      <td>1</td>\n",
              "      <td>1</td>\n",
              "      <td>True</td>\n",
              "    </tr>\n",
              "    <tr>\n",
              "      <th>2</th>\n",
              "      <td>0.7405</td>\n",
              "      <td>Relu</td>\n",
              "      <td>2</td>\n",
              "      <td>1</td>\n",
              "      <td>True</td>\n",
              "    </tr>\n",
              "  </tbody>\n",
              "</table>\n",
              "</div>"
            ],
            "text/plain": [
              "   Test Accuracy Activate Function  Hidden Layer  Dropout Ratio  \\\n",
              "0         0.8352              Relu             0              1   \n",
              "1         0.8334              Relu             1              1   \n",
              "2         0.7405              Relu             2              1   \n",
              "\n",
              "   Normalized Train Data  \n",
              "0                   True  \n",
              "1                   True  \n",
              "2                   True  "
            ]
          },
          "execution_count": 201,
          "metadata": {},
          "output_type": "execute_result"
        }
      ],
      "source": [
        "# creating models\n",
        "column_names = ['Test Accuracy','Activate Function','Hidden Layer','Dropout Ratio','Normalized Train Data']\n",
        "MLP_0L = MLP(layer_num=0)\n",
        "MLP_1L = MLP(layer_num=1,M=128,active_func=\"relu\")\n",
        "MLP_2L = MLP(layer_num=2,M=128,active_func=\"relu\")\n",
        "model_list = [MLP_0L,MLP_1L,MLP_2L] # compare depths\n",
        "acc_list = compare_models(model_list,optimizer)\n",
        "acc_list[0].extend([\"Relu\",0,1,True])\n",
        "acc_list[1].extend([\"Relu\",1,1,True])\n",
        "acc_list[2].extend([\"Relu\",2,1,True])\n",
        "df = pd.DataFrame(acc_list,columns=column_names)\n",
        "df"
      ]
    },
    {
      "cell_type": "code",
      "execution_count": 202,
      "metadata": {
        "colab": {
          "base_uri": "https://localhost:8080/"
        },
        "id": "JGdVzvKZCLTt",
        "outputId": "29e37196-a10c-4cfe-f9f2-8dfb418cb8e1"
      },
      "outputs": [
        {
          "data": {
            "text/html": [
              "<div>\n",
              "<style scoped>\n",
              "    .dataframe tbody tr th:only-of-type {\n",
              "        vertical-align: middle;\n",
              "    }\n",
              "\n",
              "    .dataframe tbody tr th {\n",
              "        vertical-align: top;\n",
              "    }\n",
              "\n",
              "    .dataframe thead th {\n",
              "        text-align: right;\n",
              "    }\n",
              "</style>\n",
              "<table border=\"1\" class=\"dataframe\">\n",
              "  <thead>\n",
              "    <tr style=\"text-align: right;\">\n",
              "      <th></th>\n",
              "      <th>Test Accuracy</th>\n",
              "      <th>Activate Function</th>\n",
              "      <th>Hidden Layer</th>\n",
              "      <th>Dropout Ratio</th>\n",
              "      <th>Normalized Train Data</th>\n",
              "    </tr>\n",
              "  </thead>\n",
              "  <tbody>\n",
              "    <tr>\n",
              "      <th>0</th>\n",
              "      <td>0.7137</td>\n",
              "      <td>Relu</td>\n",
              "      <td>2</td>\n",
              "      <td>1</td>\n",
              "      <td>True</td>\n",
              "    </tr>\n",
              "    <tr>\n",
              "      <th>1</th>\n",
              "      <td>0.7001</td>\n",
              "      <td>Leaky Relu</td>\n",
              "      <td>2</td>\n",
              "      <td>1</td>\n",
              "      <td>True</td>\n",
              "    </tr>\n",
              "    <tr>\n",
              "      <th>2</th>\n",
              "      <td>0.7445</td>\n",
              "      <td>Tanh</td>\n",
              "      <td>2</td>\n",
              "      <td>1</td>\n",
              "      <td>True</td>\n",
              "    </tr>\n",
              "  </tbody>\n",
              "</table>\n",
              "</div>"
            ],
            "text/plain": [
              "   Test Accuracy Activate Function  Hidden Layer  Dropout Ratio  \\\n",
              "0         0.7137              Relu             2              1   \n",
              "1         0.7001        Leaky Relu             2              1   \n",
              "2         0.7445              Tanh             2              1   \n",
              "\n",
              "   Normalized Train Data  \n",
              "0                   True  \n",
              "1                   True  \n",
              "2                   True  "
            ]
          },
          "execution_count": 202,
          "metadata": {},
          "output_type": "execute_result"
        }
      ],
      "source": [
        "MLP_2L_lrelu = MLP(layer_num=2,M=128,active_func=\"lrelu\")\n",
        "MLP_2L_tanh = MLP(layer_num=2,M=128,active_func=\"tanh\")\n",
        "models_acfun = [MLP_2L,MLP_2L_lrelu,MLP_2L_tanh] # compare acfuns\n",
        "acc_list = compare_models(models_acfun,optimizer)\n",
        "acc_list[0].extend([\"Relu\",2,1,True])\n",
        "acc_list[1].extend([\"Leaky Relu\",2,1,True])\n",
        "acc_list[2].extend([\"Tanh\",2,1,True])\n",
        "df = pd.DataFrame(acc_list,columns=column_names)\n",
        "df"
      ]
    },
    {
      "cell_type": "code",
      "execution_count": 203,
      "metadata": {
        "colab": {
          "base_uri": "https://localhost:8080/"
        },
        "id": "UdVCattxNEUl",
        "outputId": "f75f5975-f410-43e5-c70b-9456b69fc1de"
      },
      "outputs": [
        {
          "data": {
            "text/html": [
              "<div>\n",
              "<style scoped>\n",
              "    .dataframe tbody tr th:only-of-type {\n",
              "        vertical-align: middle;\n",
              "    }\n",
              "\n",
              "    .dataframe tbody tr th {\n",
              "        vertical-align: top;\n",
              "    }\n",
              "\n",
              "    .dataframe thead th {\n",
              "        text-align: right;\n",
              "    }\n",
              "</style>\n",
              "<table border=\"1\" class=\"dataframe\">\n",
              "  <thead>\n",
              "    <tr style=\"text-align: right;\">\n",
              "      <th></th>\n",
              "      <th>Test Accuracy</th>\n",
              "      <th>Activate Function</th>\n",
              "      <th>Hidden Layer</th>\n",
              "      <th>Dropout Ratio</th>\n",
              "      <th>Normalized Train Data</th>\n",
              "    </tr>\n",
              "  </thead>\n",
              "  <tbody>\n",
              "    <tr>\n",
              "      <th>0</th>\n",
              "      <td>0.7662</td>\n",
              "      <td>Relu</td>\n",
              "      <td>2</td>\n",
              "      <td>1.0</td>\n",
              "      <td>True</td>\n",
              "    </tr>\n",
              "    <tr>\n",
              "      <th>1</th>\n",
              "      <td>0.6834</td>\n",
              "      <td>Relu</td>\n",
              "      <td>2</td>\n",
              "      <td>0.9</td>\n",
              "      <td>True</td>\n",
              "    </tr>\n",
              "    <tr>\n",
              "      <th>2</th>\n",
              "      <td>0.6984</td>\n",
              "      <td>Relu</td>\n",
              "      <td>2</td>\n",
              "      <td>0.8</td>\n",
              "      <td>True</td>\n",
              "    </tr>\n",
              "    <tr>\n",
              "      <th>3</th>\n",
              "      <td>0.6391</td>\n",
              "      <td>Relu</td>\n",
              "      <td>2</td>\n",
              "      <td>0.7</td>\n",
              "      <td>True</td>\n",
              "    </tr>\n",
              "    <tr>\n",
              "      <th>4</th>\n",
              "      <td>0.3550</td>\n",
              "      <td>Relu</td>\n",
              "      <td>2</td>\n",
              "      <td>0.6</td>\n",
              "      <td>True</td>\n",
              "    </tr>\n",
              "  </tbody>\n",
              "</table>\n",
              "</div>"
            ],
            "text/plain": [
              "   Test Accuracy Activate Function  Hidden Layer  Dropout Ratio  \\\n",
              "0         0.7662              Relu             2            1.0   \n",
              "1         0.6834              Relu             2            0.9   \n",
              "2         0.6984              Relu             2            0.8   \n",
              "3         0.6391              Relu             2            0.7   \n",
              "4         0.3550              Relu             2            0.6   \n",
              "\n",
              "   Normalized Train Data  \n",
              "0                   True  \n",
              "1                   True  \n",
              "2                   True  \n",
              "3                   True  \n",
              "4                   True  "
            ]
          },
          "execution_count": 203,
          "metadata": {},
          "output_type": "execute_result"
        }
      ],
      "source": [
        "MLP_2L1 = MLP(layer_num=2,M=128,active_func=\"relu\",dropout=1)\n",
        "MLP_2L2 = MLP(layer_num=2,M=128,active_func=\"relu\",dropout=0.9)\n",
        "MLP_2L3 = MLP(layer_num=2,M=128,active_func=\"relu\",dropout=0.8)\n",
        "MLP_2L4 = MLP(layer_num=2,M=128,active_func=\"relu\",dropout=0.7)\n",
        "MLP_2L5 = MLP(layer_num=2,M=128,active_func=\"relu\",dropout=0.6)\n",
        "models = [MLP_2L1,MLP_2L2,MLP_2L3,MLP_2L4,MLP_2L5] # compare dropout ratios\n",
        "\n",
        "acc_list = compare_models(models,optimizer)\n",
        "acc_list[0].extend([\"Relu\",2,1,True])\n",
        "acc_list[1].extend([\"Relu\",2,0.9,True])\n",
        "acc_list[2].extend([\"Relu\",2,0.8,True])\n",
        "acc_list[3].extend([\"Relu\",2,0.7,True])\n",
        "acc_list[4].extend([\"Relu\",2,0.6,True])\n",
        "df = pd.DataFrame(acc_list,columns=column_names)\n",
        "df"
      ]
    },
    {
      "cell_type": "code",
      "execution_count": 209,
      "metadata": {
        "colab": {
          "base_uri": "https://localhost:8080/",
          "height": 235
        },
        "id": "qbJVoAFu0C-m",
        "outputId": "d15a586b-885b-482b-e2fa-21f7dba2b51a"
      },
      "outputs": [
        {
          "data": {
            "text/html": [
              "<div>\n",
              "<style scoped>\n",
              "    .dataframe tbody tr th:only-of-type {\n",
              "        vertical-align: middle;\n",
              "    }\n",
              "\n",
              "    .dataframe tbody tr th {\n",
              "        vertical-align: top;\n",
              "    }\n",
              "\n",
              "    .dataframe thead th {\n",
              "        text-align: right;\n",
              "    }\n",
              "</style>\n",
              "<table border=\"1\" class=\"dataframe\">\n",
              "  <thead>\n",
              "    <tr style=\"text-align: right;\">\n",
              "      <th></th>\n",
              "      <th>Test Accuracy</th>\n",
              "      <th>Activate Function</th>\n",
              "      <th>Hidden Layer</th>\n",
              "      <th>Dropout Ratio</th>\n",
              "      <th>Normalized Train Data</th>\n",
              "    </tr>\n",
              "  </thead>\n",
              "  <tbody>\n",
              "    <tr>\n",
              "      <th>0</th>\n",
              "      <td>0.1000</td>\n",
              "      <td>Relu</td>\n",
              "      <td>2</td>\n",
              "      <td>1</td>\n",
              "      <td>False</td>\n",
              "    </tr>\n",
              "    <tr>\n",
              "      <th>1</th>\n",
              "      <td>0.7465</td>\n",
              "      <td>Relu</td>\n",
              "      <td>2</td>\n",
              "      <td>1</td>\n",
              "      <td>True</td>\n",
              "    </tr>\n",
              "  </tbody>\n",
              "</table>\n",
              "</div>"
            ],
            "text/plain": [
              "   Test Accuracy Activate Function  Hidden Layer  Dropout Ratio  \\\n",
              "0         0.1000              Relu             2              1   \n",
              "1         0.7465              Relu             2              1   \n",
              "\n",
              "   Normalized Train Data  \n",
              "0                  False  \n",
              "1                   True  "
            ]
          },
          "execution_count": 209,
          "metadata": {},
          "output_type": "execute_result"
        }
      ],
      "source": [
        "MLP_2LU = MLP(layer_num=2,M=128,active_func=\"relu\")\n",
        "MLP_2LN = MLP(layer_num=2,M=128,active_func=\"relu\")\n",
        "\n",
        "# train with unormalized data\n",
        "MLP_2LU.fit(x_train_unnorm,y_train_C,optimizer)\n",
        "MLP_2LN.fit(x_train,y_train_C,optimizer)\n",
        "\n",
        "unnorm_acc = MLP_2LU.evaluate_acc(MLP_2LU.predict(x_test),y_test_C)\n",
        "norm_acc = MLP_2LU.evaluate_acc(MLP_2LN.predict(x_test),y_test_C)\n",
        "acc_list = [[unnorm_acc],[norm_acc]]\n",
        "acc_list[0].extend([\"Relu\",2,1,False])\n",
        "acc_list[1].extend([\"Relu\",2,1,True])\n",
        "df = pd.DataFrame(acc_list,columns=column_names)\n",
        "df"
      ]
    },
    {
      "cell_type": "code",
      "execution_count": 13,
      "metadata": {
        "id": "JmkeoUcNQGww"
      },
      "outputs": [],
      "source": [
        "Conv2D = keras.layers.Conv2D\n",
        "Dense = keras.layers.Dense\n",
        "Flatten = keras.layers.Flatten\n",
        "\n",
        "CNN = keras.models.Sequential()\n",
        "CNN.add(Conv2D(filters=32,kernel_size=(2,2),padding=\"same\",activation=\"relu\", kernel_initializer='he_normal',input_shape=(28,28,1)))\n",
        "CNN.add(Conv2D(filters=64,kernel_size=(2,2),padding=\"same\",activation=\"relu\"))\n",
        "CNN.add(Flatten())\n",
        "CNN.add(Dense(128,activation=\"relu\"))\n",
        "CNN.add(Dense(128,activation=\"relu\"))\n",
        "CNN.add(Dense(10,activation=\"softmax\"))"
      ]
    },
    {
      "cell_type": "code",
      "execution_count": 14,
      "metadata": {
        "id": "-TXaBUgycCjJ"
      },
      "outputs": [],
      "source": [
        "CNN.compile(optimizer=\"adam\",loss=keras.losses.categorical_crossentropy,metrics=[\"accuracy\"])"
      ]
    },
    {
      "cell_type": "code",
      "execution_count": 15,
      "metadata": {
        "id": "FNNP4KEHTqrz"
      },
      "outputs": [
        {
          "name": "stdout",
          "output_type": "stream",
          "text": [
            "Model: \"sequential\"\n",
            "_________________________________________________________________\n",
            " Layer (type)                Output Shape              Param #   \n",
            "=================================================================\n",
            " conv2d (Conv2D)             (None, 28, 28, 32)        160       \n",
            "                                                                 \n",
            " conv2d_1 (Conv2D)           (None, 28, 28, 64)        8256      \n",
            "                                                                 \n",
            " flatten (Flatten)           (None, 50176)             0         \n",
            "                                                                 \n",
            " dense (Dense)               (None, 128)               6422656   \n",
            "                                                                 \n",
            " dense_1 (Dense)             (None, 128)               16512     \n",
            "                                                                 \n",
            " dense_2 (Dense)             (None, 10)                1290      \n",
            "                                                                 \n",
            "=================================================================\n",
            "Total params: 6,448,874\n",
            "Trainable params: 6,448,874\n",
            "Non-trainable params: 0\n",
            "_________________________________________________________________\n"
          ]
        }
      ],
      "source": [
        "CNN.summary()"
      ]
    },
    {
      "cell_type": "code",
      "execution_count": 17,
      "metadata": {
        "id": "AQoBvJ4PSpDk"
      },
      "outputs": [
        {
          "name": "stdout",
          "output_type": "stream",
          "text": [
            "Epoch 1/5\n",
            "469/469 [==============================] - 71s 152ms/step - loss: 0.3216 - accuracy: 0.8845 - val_loss: 0.2952 - val_accuracy: 0.8924\n",
            "Epoch 2/5\n",
            "469/469 [==============================] - 74s 159ms/step - loss: 0.2133 - accuracy: 0.9220 - val_loss: 0.2658 - val_accuracy: 0.9056\n",
            "Epoch 3/5\n",
            "469/469 [==============================] - 73s 155ms/step - loss: 0.1504 - accuracy: 0.9450 - val_loss: 0.2862 - val_accuracy: 0.9087\n",
            "Epoch 4/5\n",
            "469/469 [==============================] - 75s 159ms/step - loss: 0.1077 - accuracy: 0.9606 - val_loss: 0.3085 - val_accuracy: 0.9089\n",
            "Epoch 5/5\n",
            "469/469 [==============================] - 73s 156ms/step - loss: 0.0720 - accuracy: 0.9742 - val_loss: 0.3337 - val_accuracy: 0.9078\n"
          ]
        }
      ],
      "source": [
        "# Run CNN experiment with epoch = 5\n",
        "\n",
        "train_model = CNN.fit(x_train_img,y_train_C,batch_size=128,epochs=5,verbose=1,validation_data=(x_test_img,y_test_C))"
      ]
    },
    {
      "cell_type": "code",
      "execution_count": 21,
      "metadata": {
        "id": "W68S9yiqxqbm"
      },
      "outputs": [],
      "source": [
        "# train MLP with 5 epoches (with the best performance hyper parameters)\n",
        "optimizer = GradientDescent(learning_rate=0.00035,max_iters=5000) \n",
        "def get_acc_history(layer_num,active_func,dropout,epoch,optimizer):\n",
        "  model = MLP(layer_num=layer_num,active_func=active_func,dropout=dropout)\n",
        "  result_dict = {\n",
        "      'test_acc':[],\n",
        "      'train_acc':[]\n",
        "  }\n",
        "  params = []\n",
        "  for i in range(epoch):\n",
        "    model.fit(x_train,y_train_C,optimizer,params)\n",
        "    params = model.params\n",
        "    test_acc = model.evaluate_acc(model.predict(x_test),y_test_C)\n",
        "    train_acc = model.evaluate_acc(model.predict(x_train),y_train_C)\n",
        "    result_dict['test_acc'].append(test_acc)\n",
        "    result_dict['train_acc'].append(train_acc)\n",
        "  return result_dict"
      ]
    },
    {
      "cell_type": "code",
      "execution_count": 24,
      "metadata": {
        "id": "ffiUVkK8xLgG"
      },
      "outputs": [
        {
          "data": {
            "text/plain": [
              "{'test_acc': [0.8321, 0.8454, 0.8439, 0.8459, 0.8463],\n",
              " 'train_acc': [0.8476833333333333,\n",
              "  0.8618166666666667,\n",
              "  0.8611166666666666,\n",
              "  0.86415,\n",
              "  0.8686]}"
            ]
          },
          "execution_count": 24,
          "metadata": {},
          "output_type": "execute_result"
        }
      ],
      "source": [
        "MLP_history = get_acc_history(1,\"tanh\",0.85,5,optimizer)\n",
        "MLP_history"
      ]
    },
    {
      "cell_type": "code",
      "execution_count": 22,
      "metadata": {
        "id": "C6t2FIpVKMVK"
      },
      "outputs": [
        {
          "data": {
            "text/plain": [
              "{'loss': [0.3215610980987549,\n",
              "  0.21331103146076202,\n",
              "  0.1503898650407791,\n",
              "  0.1077364832162857,\n",
              "  0.07198364287614822],\n",
              " 'accuracy': [0.8844666481018066,\n",
              "  0.9220499992370605,\n",
              "  0.9449666738510132,\n",
              "  0.9605833292007446,\n",
              "  0.9741833209991455],\n",
              " 'val_loss': [0.2951793372631073,\n",
              "  0.2657770812511444,\n",
              "  0.286214143037796,\n",
              "  0.3084559738636017,\n",
              "  0.3337114751338959],\n",
              " 'val_accuracy': [0.8924000263214111,\n",
              "  0.9056000113487244,\n",
              "  0.9086999893188477,\n",
              "  0.9089000225067139,\n",
              "  0.907800018787384]}"
            ]
          },
          "execution_count": 22,
          "metadata": {},
          "output_type": "execute_result"
        }
      ],
      "source": [
        "CNN_history = train_model.history\n",
        "CNN_history"
      ]
    },
    {
      "cell_type": "code",
      "execution_count": 25,
      "metadata": {},
      "outputs": [
        {
          "data": {
            "image/png": "[encoded data removed]",
            "text/plain": [
              "<Figure size 3200x1920 with 1 Axes>"
            ]
          },
          "metadata": {
            "needs_background": "light"
          },
          "output_type": "display_data"
        }
      ],
      "source": [
        "import matplotlib.pyplot as plt\n",
        "\n",
        "plt.figure(figsize=(40, 24), dpi=80)\n",
        "plt.rc('xtick', labelsize=15) \n",
        "plt.rc('ytick', labelsize=15)\n",
        "c = ['red','orange','magenta','blue','navy','green','turquoise','darkviolet',\n",
        "     'gray','violet','lime','gold','indianred'] \n",
        "accuracy_list = [CNN_history['accuracy'],CNN_history['val_accuracy'],MLP_history['train_acc'],MLP_history['test_acc']]\n",
        "label_list = [\"CNN train accuracy\",\"CNN test accuracy\",\"MLP train accuracy\",\"MLP test accuracy\"]\n",
        "x_axis = [1,2,3,4,5]\n",
        "for i in range(4):\n",
        "    plt.subplot(2,2,1)\n",
        "    \n",
        "    plt.title(\"Train/Test Accuracy of CNN and MLP\", fontsize=20)\n",
        "    plt.plot(x_axis,accuracy_list[i],label=label_list[i],color=c[i])\n",
        "    \n",
        "    plt.xlabel(\"Epoches\")\n",
        "    plt.legend(loc=3, fontsize=17)\n",
        "\n",
        "plt.show()"
      ]
    }
  ],
  "metadata": {
    "colab": {
      "collapsed_sections": [],
      "name": "COMP551 P3.ipynb",
      "provenance": []
    },
    "kernelspec": {
      "display_name": "Python 3",
      "name": "python3"
    },
    "language_info": {
      "codemirror_mode": {
        "name": "ipython",
        "version": 3
      },
      "file_extension": ".py",
      "mimetype": "text/x-python",
      "name": "python",
      "nbconvert_exporter": "python",
      "pygments_lexer": "ipython3",
      "version": "3.9.1"
    }
  },
  "nbformat": 4,
  "nbformat_minor": 0
}
